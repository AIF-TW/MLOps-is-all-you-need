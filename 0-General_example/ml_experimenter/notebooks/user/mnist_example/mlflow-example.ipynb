{
 "cells": [
  {
   "cell_type": "markdown",
   "metadata": {},
   "source": [
    "# 使用手寫數字資料集訓練卷積神經網路，並以MLflow追蹤實驗結果\n",
    "\n",
    "這份範例的目的是讓使用者了解[MLflow](https://mlflow.org/)的實驗追蹤、模型版本控制、部署等功能，我們將實際操作以下步驟：\n",
    "\n",
    "1. 在[PyTorch](https://pytorch.org/)框架下使用[MNIST](http://yann.lecun.com/exdb/mnist/)資料集來訓練簡單的卷積神經網路模型，以不同超參數進行數次實驗\n",
    "2. 以MLflow紀錄實驗結果\n",
    "3. 在MLflow的UI進行模型註冊（Register model）\n",
    "4. 以MLflow的API讀取特定版本的模型，並用來推論\n",
    "\n",
    "這份Jupyter Notebook著重在使用[MLflow Python API](https://mlflow.org/docs/latest/python_api/index.html)來完成以上的步驟，除了紀錄實驗結果要寫在訓練的程式碼，其他步驟都能使用UI來操作。更多資訊可參考MLflow的[官方教學](https://mlflow.org/docs/latest/tutorials-and-examples/index.html)。"
   ]
  },
  {
   "cell_type": "markdown",
   "metadata": {},
   "source": [
    "## 需要的套件"
   ]
  },
  {
   "cell_type": "code",
   "execution_count": 76,
   "metadata": {
    "tags": []
   },
   "outputs": [],
   "source": [
    "import os\n",
    "import zipfile\n",
    "from datetime import datetime\n",
    "from PIL import Image\n",
    "import torch\n",
    "import torch.nn as nn\n",
    "from torch.utils.data import Dataset, DataLoader\n",
    "from torch.utils.data.sampler import SubsetRandomSampler\n",
    "import torchvision\n",
    "from torchvision import transforms, models\n",
    "from torchinfo import summary\n",
    "import numpy as np\n",
    "import mlflow\n",
    "from dotenv import load_dotenv"
   ]
  },
  {
   "cell_type": "markdown",
   "metadata": {
    "tags": []
   },
   "source": [
    "## 下載資料集、指定PyTorch的運算裝置"
   ]
  },
  {
   "cell_type": "code",
   "execution_count": 77,
   "metadata": {
    "tags": []
   },
   "outputs": [
    {
     "name": "stdout",
     "output_type": "stream",
     "text": [
      "Training device: cpu\n"
     ]
    }
   ],
   "source": [
    "# 若機器配備支援CUDA的GPU請執行這邊\n",
    "DEVICE = torch.device('cuda' if torch.cuda.is_available() else 'cpu')\n",
    "\n",
    "# 若機器運行macOS且配備M系列晶片或特定AMD顯示卡請執行這邊\n",
    "# 相關說明請見https://developer.apple.com/metal/pytorch/\n",
    "# DEVICE = torch.device('mps' if torch.backends.mps.is_available() else 'cpu')\n",
    "\n",
    "print(f'Training device: {DEVICE}')"
   ]
  },
  {
   "cell_type": "markdown",
   "metadata": {},
   "source": [
    "## 設定MLflow的相關環境變數、建立實驗\n",
    "\n",
    "這些MLflow相關的環境變數很重要，如果有些項目沒正確設定，可能導致MLflow無法存取伺服器上的資源"
   ]
  },
  {
   "cell_type": "code",
   "execution_count": 78,
   "metadata": {
    "tags": []
   },
   "outputs": [
    {
     "name": "stdout",
     "output_type": "stream",
     "text": [
      "MLflow tracking URI: http://mlflow_server:5050\n"
     ]
    },
    {
     "data": {
      "text/plain": [
       "<Experiment: artifact_location='s3://mlflow/', creation_time=1698302570293, experiment_id='1', last_update_time=1698302570293, lifecycle_stage='active', name='MNIST', tags={'developer': 'AIF'}>"
      ]
     },
     "execution_count": 78,
     "metadata": {},
     "output_type": "execute_result"
    }
   ],
   "source": [
    "load_dotenv('.env')\n",
    "os.environ['AWS_ACCESS_KEY_ID'] = os.getenv('MINIO_ROOT_USER')\n",
    "os.environ['AWS_SECRET_ACCESS_KEY'] = os.getenv('MINIO_ROOT_PASSWORD')\n",
    "os.environ['MLFLOW_S3_ENDPOINT_URL'] = os.getenv('MLFLOW_S3_ENDPOINT_URL')\n",
    "os.environ['LOGNAME'] = os.getenv('NB_USER')  # 設定要紀錄在實驗的使用者名稱\n",
    "\n",
    "mlflow.set_tracking_uri(os.getenv('MLFLOW_TRACKING_URI'))\n",
    "print(f'MLflow tracking URI: {mlflow.get_tracking_uri()}')\n",
    "\n",
    "experiment_name = 'MNIST'\n",
    "\n",
    "# 建立實驗\n",
    "existing_exp = mlflow.get_experiment_by_name(experiment_name)\n",
    "if not existing_exp:\n",
    "    mlflow.create_experiment(experiment_name, \"s3://mlflow/\")\n",
    "    \n",
    "mlflow.set_experiment(experiment_name)"
   ]
  },
  {
   "cell_type": "markdown",
   "metadata": {},
   "source": [
    "### 資料前處理\n",
    "\n",
    "1. 前處理\n",
    "2. 切割訓練、驗證集\n",
    "3. 建立訓練、驗證集的[DataLoader](https://pytorch.org/tutorials/beginner/basics/data_tutorial.html)"
   ]
  },
  {
   "cell_type": "code",
   "execution_count": 79,
   "metadata": {
    "tags": []
   },
   "outputs": [
    {
     "name": "stdout",
     "output_type": "stream",
     "text": [
      "Training set size: 34603, validation set size: 8650\n"
     ]
    }
   ],
   "source": [
    "# 指定驗證集佔比\n",
    "val_size = 0.2\n",
    "# 是否對資料進行洗牌\n",
    "shuffle_data = True\n",
    "# 隨機種子\n",
    "random_seed = 1\n",
    "# Batch size\n",
    "batch_size = 64\n",
    "\n",
    "# 1. 前處理\n",
    "transform_list_aug = transforms.Compose(\n",
    "    [\n",
    "        transforms.Grayscale(),  # MNIST需要將圖片轉換為灰階，否則預設是3通道圖片\n",
    "        transforms.Resize([28, 28]),\n",
    "        transforms.ToTensor(),\n",
    "    ]\n",
    ")\n",
    "\n",
    "train_data = torchvision.datasets.ImageFolder(\n",
    "    root='./data/MNIST/train/',\n",
    "    transform=transform_list_aug\n",
    ")\n",
    "\n",
    "# 2. 切割訓練、驗證集\n",
    "indices = list(range(len(train_data)))\n",
    "split_point = int(np.floor(val_size * len(train_data)))\n",
    "\n",
    "if shuffle_data:\n",
    "    np.random.seed(random_seed)\n",
    "    np.random.shuffle(indices)\n",
    "\n",
    "train_indices, val_indices = indices[split_point:], indices[:split_point]\n",
    "print(f'Training set size: {len(train_indices)}, validation set size: {len(val_indices)}')\n",
    "\n",
    "# 3. 建立訓練與驗證集的DataLoader\n",
    "train_loader = DataLoader(\n",
    "    train_data,\n",
    "    batch_size=batch_size,\n",
    "    sampler=SubsetRandomSampler(train_indices),\n",
    "    num_workers=2\n",
    ")\n",
    "val_loader = DataLoader(\n",
    "    train_data,\n",
    "    batch_size=batch_size,\n",
    "    sampler=SubsetRandomSampler(val_indices),\n",
    "    num_workers=2\n",
    ")"
   ]
  },
  {
   "cell_type": "markdown",
   "metadata": {},
   "source": [
    "### 建立模型"
   ]
  },
  {
   "cell_type": "code",
   "execution_count": 80,
   "metadata": {
    "tags": []
   },
   "outputs": [],
   "source": [
    "class Net(nn.Module):\n",
    "    \"\"\"\n",
    "    針對手寫數字辨識建立簡單的CNN模型\n",
    "    \"\"\"\n",
    "    def __init__(self):\n",
    "        super(Net, self).__init__()\n",
    "        self.stem = nn.Sequential(\n",
    "            nn.Conv2d(\n",
    "                in_channels=1,\n",
    "                out_channels=16,\n",
    "                kernel_size=3,\n",
    "                stride=1,\n",
    "                padding='same'\n",
    "            ),\n",
    "            nn.LeakyReLU(),\n",
    "            nn.MaxPool2d(\n",
    "                kernel_size=2\n",
    "            )\n",
    "        )\n",
    "        self.conv1 = nn.Sequential(\n",
    "            nn.Conv2d(\n",
    "                in_channels=16,\n",
    "                out_channels=32,\n",
    "                kernel_size=3,\n",
    "                stride=1,\n",
    "                padding='same'\n",
    "            ),\n",
    "            nn.LeakyReLU(),\n",
    "            nn.MaxPool2d(\n",
    "                kernel_size=2\n",
    "            )\n",
    "        )\n",
    "        self.conv2 = nn.Sequential(\n",
    "            nn.Conv2d(\n",
    "                in_channels=32,\n",
    "                out_channels=16,\n",
    "                kernel_size=3,\n",
    "                stride=1,\n",
    "                padding='same'\n",
    "            ),\n",
    "            nn.LeakyReLU(),\n",
    "        )\n",
    "        self.flatten = nn.Flatten()\n",
    "        self.classify = nn.Linear(\n",
    "            in_features=16 * 7 * 7,\n",
    "            out_features=10\n",
    "        )\n",
    "        self.softmax = nn.Softmax(\n",
    "            dim=1\n",
    "        )\n",
    "\n",
    "    def forward(self, x):\n",
    "        x = self.stem(x)\n",
    "        x = self.conv1(x)\n",
    "        x = self.conv2(x)\n",
    "        x = self.flatten(x)\n",
    "        output = self.classify(x)\n",
    "\n",
    "        return output"
   ]
  },
  {
   "cell_type": "code",
   "execution_count": 81,
   "metadata": {
    "tags": []
   },
   "outputs": [
    {
     "name": "stdout",
     "output_type": "stream",
     "text": [
      " 1/20 541/541,         train loss:  0.39130,         train acc: 0.87956,         val loss:  0.13113,         val acc: 0.95887           \n",
      " 2/20 541/541,         train loss:  0.10372,         train acc: 0.96918,         val loss:  0.07954,         val acc: 0.97472           \n",
      " 3/20 541/541,         train loss:  0.07199,         train acc: 0.97837,         val loss:  0.06371,         val acc: 0.98035           \n",
      " 4/20 541/541,         train loss:  0.05498,         train acc: 0.98313,         val loss:  0.05161,         val acc: 0.98460           \n",
      " 5/20 541/541,         train loss:  0.04623,         train acc: 0.98562,         val loss:  0.05840,         val acc: 0.98219           \n",
      " 6/20 541/541,         train loss:  0.03881,         train acc: 0.98780,         val loss:  0.04881,         val acc: 0.98518           \n",
      " 7/20 541/541,         train loss:  0.03472,         train acc: 0.98891,         val loss:  0.05202,         val acc: 0.98518           \n",
      " 8/20 541/541,         train loss:  0.02672,         train acc: 0.99132,         val loss:  0.04113,         val acc: 0.98736           \n",
      " 9/20 541/541,         train loss:  0.02478,         train acc: 0.99180,         val loss:  0.05061,         val acc: 0.98449           \n",
      "10/20 541/541,         train loss:  0.02136,         train acc: 0.99314,         val loss:  0.05230,         val acc: 0.98483           \n",
      "11/20 541/541,         train loss:  0.01903,         train acc: 0.99383,         val loss:  0.04632,         val acc: 0.98702           \n",
      "12/20 541/541,         train loss:  0.01645,         train acc: 0.99477,         val loss:  0.04902,         val acc: 0.98518           \n",
      "13/20 541/541,         train loss:  0.01485,         train acc: 0.99495,         val loss:  0.06692,         val acc: 0.98265           \n",
      "14/20 541/541,         train loss:  0.01395,         train acc: 0.99555,         val loss:  0.04785,         val acc: 0.98667           \n",
      "15/20 541/541,         train loss:  0.01114,         train acc: 0.99627,         val loss:  0.05325,         val acc: 0.98656           \n",
      "16/20 541/541,         train loss:  0.01289,         train acc: 0.99547,         val loss:  0.05838,         val acc: 0.98633           \n",
      "17/20 541/541,         train loss:  0.00957,         train acc: 0.99694,         val loss:  0.05636,         val acc: 0.98633           \n",
      "18/20 541/541,         train loss:  0.00817,         train acc: 0.99734,         val loss:  0.04727,         val acc: 0.98840           \n",
      "19/20 541/541,         train loss:  0.00946,         train acc: 0.99664,         val loss:  0.04784,         val acc: 0.98943           \n",
      "20/20 541/541,         train loss:  0.00831,         train acc: 0.99703,         val loss:  0.04907,         val acc: 0.98794           \n"
     ]
    }
   ],
   "source": [
    "net = Net()\n",
    "\n",
    "# 使用者自訂的epoch數量\n",
    "n_epochs = 20\n",
    "i_iter = 0\n",
    "\n",
    "# 指定最佳化器（Optimizer）、損失函數（Loss function）\n",
    "optimizer = torch.optim.AdamW(net.parameters(), lr=0.001)\n",
    "loss_fn = nn.CrossEntropyLoss()\n",
    "\n",
    "# 存放每個epoch的loss, acc\n",
    "train_losses = []\n",
    "valid_losses = []\n",
    "train_accs = []\n",
    "valid_accs = []\n",
    "\n",
    "net.to(DEVICE)\n",
    "\n",
    "for epoch in range(n_epochs):\n",
    "    # 存放一個epoch內每一個batch的loss, acc\n",
    "    b_train_loss = []\n",
    "    b_valid_loss = []\n",
    "    b_train_acc = []\n",
    "    b_valid_acc = []\n",
    "    \n",
    "    # 訓練\n",
    "    net.train()\n",
    "    for idx, (imgs, train_true_labels) in enumerate(train_loader):\n",
    "        n_correct_train = 0\n",
    "\n",
    "        # 訓練資料、標籤移動到DEVICE的記憶體\n",
    "        imgs = imgs.float().to(DEVICE)\n",
    "        train_true_labels = train_true_labels.to(DEVICE)\n",
    "        \n",
    "        # 最佳化器梯度歸零\n",
    "        optimizer.zero_grad()\n",
    "        \n",
    "        # 前向傳遞\n",
    "        train_outputs = net(imgs)\n",
    "        \n",
    "        # 計算Loss、反向傳遞\n",
    "        train_loss = loss_fn(train_outputs, train_true_labels)\n",
    "        train_loss.backward()\n",
    "        optimizer.step()\n",
    "\n",
    "        # 計算訓練集的預測標籤、計算正確率（Accuracy）\n",
    "        train_outputs_label = torch.argmax(train_outputs, 1)\n",
    "        n_correct_train = len(torch.where(train_outputs_label == train_true_labels)[0]) / len(train_true_labels)\n",
    "\n",
    "        # 紀錄這個epoch的訓練集loss, acc\n",
    "        b_train_loss.append(train_loss.item())\n",
    "        b_train_acc.append(n_correct_train)\n",
    "    \n",
    "    # 驗證\n",
    "    n_correct_val = 0\n",
    "    n_val_data = 0\n",
    "    \n",
    "    net.eval()\n",
    "    with torch.no_grad():\n",
    "        for _idx, (imgs, val_true_labels) in enumerate(val_loader):\n",
    "            # 訓練資料、標籤移動到DEVICE的記憶體\n",
    "            imgs = imgs.float().to(DEVICE)\n",
    "            val_true_labels = val_true_labels.to(DEVICE)\n",
    "            \n",
    "            # 前向傳遞\n",
    "            val_outputs = net(imgs)\n",
    "            \n",
    "            # 計算Loss\n",
    "            val_loss = loss_fn(val_outputs, val_true_labels).item()\n",
    "\n",
    "            # 計算驗證集的預測標籤、計算正確率（Accuracy）\n",
    "            val_outputs_label = torch.argmax(val_outputs, 1)\n",
    "            n_correct_val = len(torch.where(val_outputs_label == val_true_labels)[0])/len(val_true_labels)\n",
    "\n",
    "            # 紀錄這個epoch的驗證集loss, acc\n",
    "            b_valid_loss.append(val_loss)\n",
    "            b_valid_acc.append(n_correct_val)\n",
    "\n",
    "    # 計算這個epoch裡每一次迭代的loss, acc平均值\n",
    "    ep_train_loss = np.mean(b_train_loss)\n",
    "    ep_vaild_loss = np.mean(b_valid_loss)\n",
    "    ep_train_acc = np.mean(b_train_acc)\n",
    "    ep_valid_acc = np.mean(b_valid_acc)\n",
    "\n",
    "    # 紀錄這個epoch裡每一次迭代的loss, acc平均值\n",
    "    train_losses.append(ep_train_loss)\n",
    "    valid_losses.append(ep_vaild_loss)\n",
    "    train_accs.append(ep_train_acc)\n",
    "    valid_accs.append(ep_valid_acc)\n",
    "    \n",
    "    # 印出每一次epoch的loss, acc\n",
    "    print(\n",
    "        f'{epoch + 1:2d}/{n_epochs:2d} {idx + 1:3d}/{len(train_loader):3d}, \\\n",
    "        train loss: {ep_train_loss:8.5f}, \\\n",
    "        train acc: {ep_train_acc:7.5f}, \\\n",
    "        val loss: {ep_vaild_loss:8.5f}, \\\n",
    "        val acc: {ep_valid_acc:7.5f}           '\n",
    "    )\n",
    "    i_iter += 1\n",
    "\n",
    "# 將模型存檔\n",
    "torch.save(net, f'./mnist.pt')"
   ]
  },
  {
   "cell_type": "markdown",
   "metadata": {},
   "source": [
    "### 紀錄模型的訓練結果\n",
    "\n",
    "MLflow[常用的實驗追蹤功能](https://mlflow.org/docs/latest/tracking.html#logging-functions)：\n",
    "  * `mlflow.set_tracking_uri()`：指定MLflow追蹤的結果的儲存位址。\n",
    "  * `mlflow.set_experiment()`：設定實驗名稱，建議可使用專案來命名。\n",
    "  * `mlflow.start_run(run_name='Run_01')`：開始記錄實驗，`run_name='Run_01'`代表這一次執行的名稱為Run_01。系統預設是隨機產生出單字來代表，建議可自訂命名格式，比較方便管理。\n",
    "  * `mlflow.log_params({'Optimizer': type(optimizer).__name__})`：紀錄實驗參數。可以用鍵值對的方式紀錄模型的學習率、資料版本等等。\n",
    "  * `mlflow.log_metric('metric', value, step=i_iter)`：紀錄指標。例如紀錄每次迭代後的準確率、誤差，`'metric'`則是指標的名稱、`value`是模型訓練的訓練誤差、`step=i_iter`則紀錄了這次更新是第幾步。\n",
    "  * `mlflow.log_model(net, artifact_path='Model')`：儲存模型。其中`net`為要儲存的模型，`artifact_path='Model'`則指定要將模型儲存在MLflow每一次執行的相對路徑，例如前述用法則會將模型儲存在`Model/`路徑底下，MLflow對常見的開發框架如scikit-learn或PyTorch、TensorFlow都有支援。"
   ]
  },
  {
   "cell_type": "code",
   "execution_count": 82,
   "metadata": {
    "tags": []
   },
   "outputs": [
    {
     "name": "stderr",
     "output_type": "stream",
     "text": [
      "/opt/conda/lib/python3.10/site-packages/_distutils_hack/__init__.py:18: UserWarning: Distutils was imported before Setuptools, but importing Setuptools also replaces the `distutils` module in `sys.modules`. This may lead to undesirable behaviors or errors. To avoid these issues, avoid using distutils directly, ensure that setuptools is installed in the traditional way (e.g. not an editable install), and/or make sure that setuptools is always imported before distutils.\n",
      "  warnings.warn(\n",
      "/opt/conda/lib/python3.10/site-packages/_distutils_hack/__init__.py:33: UserWarning: Setuptools is replacing distutils.\n",
      "  warnings.warn(\"Setuptools is replacing distutils.\")\n"
     ]
    }
   ],
   "source": [
    "now = datetime.now()\n",
    "dt_string = now.strftime(\"%Y-%m-%d %H-%M-%S\")\n",
    "\n",
    "net = Net()\n",
    "\n",
    "\n",
    "with mlflow.start_run(run_name=f'Run_{dt_string}'):\n",
    "    run_id = mlflow.active_run().info.run_id\n",
    "    mlflow.set_experiment_tag('developer', 'AIF')\n",
    "    mlflow.set_tags({\n",
    "        'Framework': 'PyTorch',\n",
    "        'Training device': DEVICE.type,\n",
    "        'Phase': 'Experiment'\n",
    "    })\n",
    "    \n",
    "    # 紀錄實驗的參數\n",
    "    mlflow.log_params({\n",
    "        'Model': net.__class__.__name__,\n",
    "        'Number of epochs': n_epochs,\n",
    "        'Optimizer': type(optimizer).__name__,\n",
    "        'Initial learning rate': optimizer.param_groups[0]['lr'],\n",
    "    })\n",
    "    \n",
    "    # 紀錄訓練過程的loss, acc\n",
    "    for i in range(len(train_losses)):\n",
    "        mlflow.log_metrics(\n",
    "            {\n",
    "                \"Training loss\": train_losses[i],\n",
    "                \"Validation loss\": valid_losses[i],\n",
    "                \"Training accuracy\":train_accs[i],\n",
    "                \"Validation accuracy\":valid_accs[i]\n",
    "            }, \n",
    "            step=i\n",
    "        )\n",
    "    \n",
    "    # 儲存模型\n",
    "    mlflow.pytorch.log_model(\n",
    "        net, \n",
    "        artifact_path='Model',\n",
    "        # registered_model_name='MNIST'\n",
    "    )  # 如果再加上registered_model_name='MNIST'則會自動建立'MNIST'模型並且將目前的模型註冊為第1版"
   ]
  },
  {
   "cell_type": "markdown",
   "metadata": {},
   "source": [
    "## 註冊模型\n",
    "\n",
    "這部分除了可以[用MLflow的UI操作](https://mlflow.org/docs/latest/model-registry.html)，也能以程式碼來執行，如以下步驟："
   ]
  },
  {
   "cell_type": "markdown",
   "metadata": {},
   "source": [
    "## 建立一個新的模型\n",
    "\n",
    "使用[mlflow.register_model](https://mlflow.org/docs/latest/python_api/mlflow.html#mlflow.register_model)註冊新模型，名稱為使用者自訂。\n",
    "\n",
    "> 如果這個名字的模型已經存在，會印出Registered model 'DogCat' already exists. Creating a new version of this model..."
   ]
  },
  {
   "cell_type": "code",
   "execution_count": 83,
   "metadata": {
    "tags": []
   },
   "outputs": [
    {
     "name": "stderr",
     "output_type": "stream",
     "text": [
      "Registered model 'MNIST' already exists. Creating a new version of this model...\n",
      "2023/10/27 01:00:37 INFO mlflow.tracking._model_registry.client: Waiting up to 300 seconds for model version to finish creation. Model name: MNIST, version 3\n",
      "Created version '3' of model 'MNIST'.\n"
     ]
    }
   ],
   "source": [
    "# 要註冊的名稱\n",
    "model_name = 'MNIST'\n",
    "model_uri = f'runs:/{run_id}/Model'\n",
    "\n",
    "# 進行模型註冊\n",
    "model_details = mlflow.register_model(\n",
    "    model_uri=model_uri, \n",
    "    name=model_name\n",
    ")"
   ]
  },
  {
   "cell_type": "markdown",
   "metadata": {},
   "source": [
    "## 增加模型描述\n",
    "\n",
    "要對MLflow伺服器的實驗結果或模型進行修改的話，通常會建立[mlflow.tracking.MlflowClient()](https://mlflow.org/docs/latest/python_api/mlflow.client.html)來達成。例如當我們要對已經建立好的模型增加描述，可以透過[client.update_registered_model()](https://mlflow.org/docs/latest/python_api/mlflow.client.html#mlflow.client.MlflowClient.update_registered_model)，而`mlflow.tracking.MlflowClient()`也還有非常多功能，未來若有需求也可自行閱讀。"
   ]
  },
  {
   "cell_type": "code",
   "execution_count": 84,
   "metadata": {
    "tags": []
   },
   "outputs": [
    {
     "data": {
      "text/plain": [
       "<RegisteredModel: aliases={}, creation_timestamp=1698307195167, description='Handwritten digits classification.', last_updated_timestamp=1698368437782, latest_versions=[<ModelVersion: aliases=[], creation_timestamp=1698315046837, current_stage='Production', description='', last_updated_timestamp=1698315047166, name='MNIST', run_id='3e0aa598119742b1a3fd7b73d558158e', run_link='', source='s3://mlflow/3e0aa598119742b1a3fd7b73d558158e/artifacts/Model', status='READY', status_message='', tags={}, user_id='', version='2'>,\n",
       " <ModelVersion: aliases=[], creation_timestamp=1698368437761, current_stage='None', description='', last_updated_timestamp=1698368437761, name='MNIST', run_id='d89bf9588c734704a51b2863714950e2', run_link='', source='s3://mlflow/d89bf9588c734704a51b2863714950e2/artifacts/Model', status='READY', status_message='', tags={}, user_id='', version='3'>], name='MNIST', tags={}>"
      ]
     },
     "execution_count": 84,
     "metadata": {},
     "output_type": "execute_result"
    }
   ],
   "source": [
    "# 建立MLflow client來存取MLflow伺服器上的資料\n",
    "client = mlflow.tracking.MlflowClient()\n",
    "\n",
    "# 更新註冊的模型，增加一些描述\n",
    "client.update_registered_model(\n",
    "    name=model_details.name,\n",
    "    description='Handwritten digits classification.'\n",
    ")"
   ]
  },
  {
   "cell_type": "markdown",
   "metadata": {},
   "source": [
    "## 切換模型狀態\n",
    "\n",
    "這邊同樣用到剛才建立的`client`，透過它我們能控制模型的狀態，例如要進行部署或是封存等等"
   ]
  },
  {
   "cell_type": "code",
   "execution_count": 85,
   "metadata": {
    "tags": []
   },
   "outputs": [
    {
     "name": "stdout",
     "output_type": "stream",
     "text": [
      "New model version: 3\n"
     ]
    }
   ],
   "source": [
    "# 以名稱來搜尋模型\n",
    "model_version_infos = client.search_model_versions(f\"name = '{model_name}'\")\n",
    "new_model_version = max([model_version_info.version for model_version_info in model_version_infos])\n",
    "\n",
    "print(f'New model version: {new_model_version}')"
   ]
  },
  {
   "cell_type": "code",
   "execution_count": 86,
   "metadata": {
    "tags": []
   },
   "outputs": [
    {
     "data": {
      "text/plain": [
       "<ModelVersion: aliases=[], creation_timestamp=1698368437761, current_stage='Production', description='', last_updated_timestamp=1698368437858, name='MNIST', run_id='d89bf9588c734704a51b2863714950e2', run_link='', source='s3://mlflow/d89bf9588c734704a51b2863714950e2/artifacts/Model', status='READY', status_message='', tags={}, user_id='', version='3'>"
      ]
     },
     "execution_count": 86,
     "metadata": {},
     "output_type": "execute_result"
    }
   ],
   "source": [
    "client.transition_model_version_stage(\n",
    "  name=model_name,\n",
    "  version=new_model_version,\n",
    "  stage='Production',\n",
    ")"
   ]
  },
  {
   "cell_type": "markdown",
   "metadata": {},
   "source": [
    "## 讀取最新版本的模型並用來推論"
   ]
  },
  {
   "cell_type": "code",
   "execution_count": 87,
   "metadata": {
    "tags": []
   },
   "outputs": [
    {
     "name": "stdout",
     "output_type": "stream",
     "text": [
      "Model version: 3\n",
      "Logged model: \n",
      "Net(\n",
      "  (stem): Sequential(\n",
      "    (0): Conv2d(1, 16, kernel_size=(3, 3), stride=(1, 1), padding=same)\n",
      "    (1): LeakyReLU(negative_slope=0.01)\n",
      "    (2): MaxPool2d(kernel_size=2, stride=2, padding=0, dilation=1, ceil_mode=False)\n",
      "  )\n",
      "  (conv1): Sequential(\n",
      "    (0): Conv2d(16, 32, kernel_size=(3, 3), stride=(1, 1), padding=same)\n",
      "    (1): LeakyReLU(negative_slope=0.01)\n",
      "    (2): MaxPool2d(kernel_size=2, stride=2, padding=0, dilation=1, ceil_mode=False)\n",
      "  )\n",
      "  (conv2): Sequential(\n",
      "    (0): Conv2d(32, 16, kernel_size=(3, 3), stride=(1, 1), padding=same)\n",
      "    (1): LeakyReLU(negative_slope=0.01)\n",
      "  )\n",
      "  (flatten): Flatten(start_dim=1, end_dim=-1)\n",
      "  (classify): Linear(in_features=784, out_features=10, bias=True)\n",
      "  (softmax): Softmax(dim=1)\n",
      ")\n"
     ]
    }
   ],
   "source": [
    "logged_model_info = client.get_latest_versions(name='MNIST', stages=[\"Production\"])[0]  # 搜尋目前為Production的模型\n",
    "print(f'Model version: {logged_model_info.version}')\n",
    "\n",
    "logged_model_run_id = logged_model_info.run_id  # 模型的run_id\n",
    "logged_model_path = f'runs:/{logged_model_run_id}/Model'  # 格式'runs:/<model_run_id>/Model'為MLflow固定的寫法，可透過特定run_id來讀取資料\n",
    "\n",
    "# 讀取PyTorch模型\n",
    "loaded_model = mlflow.pytorch.load_model(\n",
    "    model_uri=logged_model_path,\n",
    "    map_location=DEVICE\n",
    ")\n",
    "loaded_model.eval()\n",
    "\n",
    "print(f'Logged model: \\n{loaded_model}')"
   ]
  },
  {
   "cell_type": "code",
   "execution_count": 88,
   "metadata": {
    "tags": []
   },
   "outputs": [
    {
     "data": {
      "text/plain": [
       "==========================================================================================\n",
       "Layer (type:depth-idx)                   Output Shape              Param #\n",
       "==========================================================================================\n",
       "Net                                      [1, 10]                   --\n",
       "├─Sequential: 1-1                        [1, 16, 14, 14]           --\n",
       "│    └─Conv2d: 2-1                       [1, 16, 28, 28]           160\n",
       "│    └─LeakyReLU: 2-2                    [1, 16, 28, 28]           --\n",
       "│    └─MaxPool2d: 2-3                    [1, 16, 14, 14]           --\n",
       "├─Sequential: 1-2                        [1, 32, 7, 7]             --\n",
       "│    └─Conv2d: 2-4                       [1, 32, 14, 14]           4,640\n",
       "│    └─LeakyReLU: 2-5                    [1, 32, 14, 14]           --\n",
       "│    └─MaxPool2d: 2-6                    [1, 32, 7, 7]             --\n",
       "├─Sequential: 1-3                        [1, 16, 7, 7]             --\n",
       "│    └─Conv2d: 2-7                       [1, 16, 7, 7]             4,624\n",
       "│    └─LeakyReLU: 2-8                    [1, 16, 7, 7]             --\n",
       "├─Flatten: 1-4                           [1, 784]                  --\n",
       "├─Linear: 1-5                            [1, 10]                   7,850\n",
       "==========================================================================================\n",
       "Total params: 17,274\n",
       "Trainable params: 17,274\n",
       "Non-trainable params: 0\n",
       "Total mult-adds (M): 1.27\n",
       "==========================================================================================\n",
       "Input size (MB): 0.00\n",
       "Forward/backward pass size (MB): 0.16\n",
       "Params size (MB): 0.07\n",
       "Estimated Total Size (MB): 0.23\n",
       "=========================================================================================="
      ]
     },
     "execution_count": 88,
     "metadata": {},
     "output_type": "execute_result"
    }
   ],
   "source": [
    "# 列出模型架構\n",
    "summary(loaded_model, input_size=(1, 1, 28, 28))"
   ]
  },
  {
   "cell_type": "markdown",
   "metadata": {},
   "source": [
    "## 對範例圖片進行推論"
   ]
  },
  {
   "cell_type": "code",
   "execution_count": 93,
   "metadata": {
    "tags": []
   },
   "outputs": [],
   "source": [
    "img = Image.open(f'./data/MNIST/test/6/1035.jpg')"
   ]
  },
  {
   "cell_type": "code",
   "execution_count": 94,
   "metadata": {
    "tags": []
   },
   "outputs": [
    {
     "name": "stdout",
     "output_type": "stream",
     "text": [
      "tensor([[-0.0016, -0.0006,  0.0494,  0.0203,  0.0396,  0.0098,  0.0137,  0.0530,\n",
      "         -0.0361,  0.0767]])\n"
     ]
    }
   ],
   "source": [
    "x = transform_list_aug(img)\n",
    "x = x.unsqueeze(0)\n",
    "\n",
    "print(loaded_model(x).detach())"
   ]
  },
  {
   "cell_type": "markdown",
   "metadata": {},
   "source": [
    "## 補充：刪除實驗\n",
    "\n",
    "如果我們想刪除實驗，除了透過UI，也可以透過Python API來完成。\n",
    "\n",
    "`mlflow.delete_experiment(experiment_id)`：`experiment_id`是每個實驗的代碼，可以在一開始建立實驗時看到。\n",
    "\n",
    "也能透過指令列介面來完成，詳見[MLflow Command-Line Interface的官方文件](https://mlflow.org/docs/0.6.0/cli.html)。"
   ]
  },
  {
   "cell_type": "code",
   "execution_count": 24,
   "metadata": {
    "tags": []
   },
   "outputs": [],
   "source": [
    "# mlflow.delete_experiment(3)"
   ]
  },
  {
   "cell_type": "markdown",
   "metadata": {},
   "source": [
    "也能透過指令列介面來完成，例如要刪除實驗：`mlflow experiments restore --experiment-id 3`，`--experiment-id 3`的3是要刪除的實驗代碼。"
   ]
  },
  {
   "cell_type": "code",
   "execution_count": 25,
   "metadata": {
    "tags": []
   },
   "outputs": [],
   "source": [
    "# !mlflow experiments restore --experiment-id 3"
   ]
  },
  {
   "cell_type": "code",
   "execution_count": null,
   "metadata": {},
   "outputs": [],
   "source": []
  }
 ],
 "metadata": {
  "kernelspec": {
   "display_name": "Python 3 (ipykernel)",
   "language": "python",
   "name": "python3"
  },
  "language_info": {
   "codemirror_mode": {
    "name": "ipython",
    "version": 3
   },
   "file_extension": ".py",
   "mimetype": "text/x-python",
   "name": "python",
   "nbconvert_exporter": "python",
   "pygments_lexer": "ipython3",
   "version": "3.10.11"
  }
 },
 "nbformat": 4,
 "nbformat_minor": 4
}
