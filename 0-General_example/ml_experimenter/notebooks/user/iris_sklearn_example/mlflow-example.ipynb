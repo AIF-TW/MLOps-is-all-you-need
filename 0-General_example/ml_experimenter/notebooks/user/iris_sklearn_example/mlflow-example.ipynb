{
 "cells": [
  {
   "cell_type": "markdown",
   "id": "6241e9e7-fcb2-4303-8ce3-8e78260b2fff",
   "metadata": {},
   "source": [
    "# Environment Settings"
   ]
  },
  {
   "cell_type": "code",
   "execution_count": 1,
   "id": "58d8c774-954c-4410-a3d1-954568580a26",
   "metadata": {},
   "outputs": [],
   "source": [
    "!pip install -r requirements.txt -q"
   ]
  },
  {
   "cell_type": "markdown",
   "id": "483deb26-d7c5-475f-bb1a-f5815fe0c171",
   "metadata": {},
   "source": [
    "# MLFLOW Experiment"
   ]
  },
  {
   "cell_type": "code",
   "execution_count": 2,
   "id": "83e1a76e-f358-47cc-b6b2-9dbb187278a9",
   "metadata": {},
   "outputs": [],
   "source": [
    "import os\n",
    "\n",
    "import mlflow\n",
    "from mlflow.models import infer_signature\n",
    "\n",
    "from sklearn.datasets import load_iris\n",
    "from sklearn.linear_model import LogisticRegression\n",
    "\n",
    "import joblib"
   ]
  },
  {
   "cell_type": "code",
   "execution_count": 3,
   "id": "22086e9c-d0fb-4b37-b841-6459f549679c",
   "metadata": {},
   "outputs": [
    {
     "data": {
      "text/plain": [
       "<Experiment: artifact_location='s3://mlflow/', creation_time=1690353973615, experiment_id='2', last_update_time=1690353973615, lifecycle_stage='active', name='iris_pred', tags={}>"
      ]
     },
     "execution_count": 3,
     "metadata": {},
     "output_type": "execute_result"
    }
   ],
   "source": [
    "# experiment setting\n",
    "EXPERMENT_NAME='iris_pred'\n",
    "\n",
    "existing_exp = mlflow.get_experiment_by_name(EXPERMENT_NAME)\n",
    "if not existing_exp:\n",
    "    mlflow.create_experiment(EXPERMENT_NAME, \"s3://\"+os.getenv('MLFLOW_BUCKET_NAME')+\"/\")\n",
    "mlflow.set_experiment(EXPERMENT_NAME)"
   ]
  },
  {
   "cell_type": "code",
   "execution_count": 4,
   "id": "b0241f7a-bf3d-46e9-b7d9-0d6238c3d93b",
   "metadata": {},
   "outputs": [
    {
     "name": "stderr",
     "output_type": "stream",
     "text": [
      "/opt/conda/lib/python3.10/site-packages/sklearn/linear_model/_logistic.py:458: ConvergenceWarning: lbfgs failed to converge (status=1):\n",
      "STOP: TOTAL NO. of ITERATIONS REACHED LIMIT.\n",
      "\n",
      "Increase the number of iterations (max_iter) or scale the data as shown in:\n",
      "    https://scikit-learn.org/stable/modules/preprocessing.html\n",
      "Please also refer to the documentation for alternative solver options:\n",
      "    https://scikit-learn.org/stable/modules/linear_model.html#logistic-regression\n",
      "  n_iter_i = _check_optimize_result(\n"
     ]
    },
    {
     "data": {
      "text/plain": [
       "['setosa', 'setosa', 'setosa', 'setosa', 'setosa']"
      ]
     },
     "execution_count": 4,
     "metadata": {},
     "output_type": "execute_result"
    }
   ],
   "source": [
    "from func.iris_classes import iris_classes\n",
    "\n",
    "X, y = load_iris(return_X_y=True, as_frame=True)\n",
    "params = {\"C\": 1.0, \"random_state\": 42}\n",
    "classifier = LogisticRegression(**params).fit(X, y)\n",
    "\n",
    "predictions = classifier.predict(X)\n",
    "iris_classes(predictions)[:5]"
   ]
  },
  {
   "cell_type": "code",
   "execution_count": 5,
   "id": "af4e2735-00d3-4a75-9f4b-475d1e47bde9",
   "metadata": {},
   "outputs": [],
   "source": [
    "with open('custom_model.joblib', 'wb+') as f: \n",
    "    joblib.dump(classifier, f)"
   ]
  },
  {
   "cell_type": "code",
   "execution_count": 9,
   "id": "290ad17c-368a-433d-87b5-128b64838aac",
   "metadata": {},
   "outputs": [],
   "source": [
    "class CustomPredict(mlflow.pyfunc.PythonModel):\n",
    "    \"\"\"Custom pyfunc class used to create customized mlflow models\"\"\"\n",
    "    def load_context(self, context):\n",
    "        import joblib\n",
    "        \n",
    "        self.model = joblib.load(context.artifacts[\"custom_model\"])\n",
    "\n",
    "    def predict(self, context, model_input):\n",
    "        from func.iris_classes import iris_classes\n",
    "        \n",
    "        prediction = self.model.predict(model_input)\n",
    "        return iris_classes(prediction)\n",
    "    \n",
    "\n",
    "signature = infer_signature(X, predictions)\n",
    "artifacts = {\n",
    "    \"custom_model\": 'custom_model.joblib'\n",
    "}\n",
    "code_path = ['func/']\n",
    "pip_requirements = [\"-r requirements.txt\"]\n",
    "\n",
    "\n",
    "with mlflow.start_run():\n",
    "    # log a custom model\n",
    "    mlflow.pyfunc.log_model(\n",
    "        artifact_path=\"model\",\n",
    "        code_path=code_path,\n",
    "        artifacts=artifacts,\n",
    "        python_model=CustomPredict(),\n",
    "        signature=signature,\n",
    "        pip_requirements=pip_requirements\n",
    "    )"
   ]
  },
  {
   "cell_type": "markdown",
   "id": "9c70f67a-2192-404b-abec-2008f219b361",
   "metadata": {},
   "source": [
    "# Model Deployment"
   ]
  },
  {
   "cell_type": "code",
   "execution_count": 7,
   "id": "d80fd7cf-aec8-4790-884e-188fa6247e81",
   "metadata": {},
   "outputs": [
    {
     "name": "stdout",
     "output_type": "stream",
     "text": [
      "last run id = c8841f41b59246b0a07fd7188251c45c\n"
     ]
    }
   ],
   "source": [
    "run_id = mlflow.last_active_run().info.run_id\n",
    "print('last run id =', run_id)\n",
    "loaded_model = mlflow.pyfunc.load_model(f\"runs:/{run_id}/model\")"
   ]
  },
  {
   "cell_type": "code",
   "execution_count": 8,
   "id": "5177b0c5-4e36-4e0f-802d-cd55ef6c5d70",
   "metadata": {},
   "outputs": [
    {
     "data": {
      "text/plain": [
       "['setosa', 'setosa', 'setosa', 'setosa', 'setosa']"
      ]
     },
     "execution_count": 8,
     "metadata": {},
     "output_type": "execute_result"
    }
   ],
   "source": [
    "loaded_model.predict(X)[:5]"
   ]
  },
  {
   "cell_type": "code",
   "execution_count": null,
   "id": "aab4483c-e840-4db6-afd0-663a34c570ad",
   "metadata": {},
   "outputs": [],
   "source": []
  }
 ],
 "metadata": {
  "kernelspec": {
   "display_name": "Python 3 (ipykernel)",
   "language": "python",
   "name": "python3"
  },
  "language_info": {
   "codemirror_mode": {
    "name": "ipython",
    "version": 3
   },
   "file_extension": ".py",
   "mimetype": "text/x-python",
   "name": "python",
   "nbconvert_exporter": "python",
   "pygments_lexer": "ipython3",
   "version": "3.10.11"
  }
 },
 "nbformat": 4,
 "nbformat_minor": 5
}
